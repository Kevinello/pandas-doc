{
 "cells": [
  {
   "cell_type": "markdown",
   "metadata": {},
   "source": [
    "# Method 方法"
   ]
  },
  {
   "cell_type": "code",
   "execution_count": 2,
   "metadata": {},
   "outputs": [],
   "source": [
    "def plus(x, y):\n",
    "    return x+y\n",
    "\n",
    "def max_num(x, y):\n",
    "    if x > y:\n",
    "        return x\n",
    "    else:\n",
    "        return y"
   ]
  },
  {
   "cell_type": "code",
   "execution_count": 3,
   "metadata": {},
   "outputs": [
    {
     "name": "stdout",
     "output_type": "stream",
     "text": [
      "plus(1, 2): 3\n",
      "max_num(-1, 7): 7\n"
     ]
    }
   ],
   "source": [
    "print(f'plus(1, 2): {plus(1, 2)}')\n",
    "print(f'max_num(-1, 7): {max_num(-1, 7)}')\n"
   ]
  },
  {
   "cell_type": "markdown",
   "metadata": {},
   "source": [
    " ## 默认参数"
   ]
  },
  {
   "cell_type": "code",
   "execution_count": 7,
   "metadata": {},
   "outputs": [
    {
     "name": "stdout",
     "output_type": "stream",
     "text": [
      "my salary is: 300000\n",
      "my salary is: 600000\n"
     ]
    }
   ],
   "source": [
    "def get_salary(edu_bg='bachelor'):\n",
    "    if edu_bg == 'bachelor':\n",
    "        return 300000\n",
    "    elif edu_bg == 'master':\n",
    "        return 450000\n",
    "    elif edu_bg == 'phd':\n",
    "        return 600000\n",
    "    else:\n",
    "        return 0\n",
    "\n",
    "print(f'my salary is: {get_salary()}')\n",
    "print(f'my salary is: {get_salary(\"phd\")}')"
   ]
  },
  {
   "cell_type": "markdown",
   "metadata": {},
   "source": [
    "## 方法中传值类型和引用类型的区别"
   ]
  },
  {
   "cell_type": "code",
   "execution_count": 13,
   "metadata": {},
   "outputs": [
    {
     "name": "stdout",
     "output_type": "stream",
     "text": [
      "origin_list: [0, 1, 2, 3, 4, 5, 6, 7, 8, 9]\n",
      "origin_num: 999\n"
     ]
    }
   ],
   "source": [
    "def all_plus_1(origin_list):\n",
    "    for i in range(len(origin_list)):\n",
    "        origin_list[i] += 1\n",
    "\n",
    "def plus_1(origin_num):\n",
    "    origin_num += 1\n",
    "\n",
    "list_1 = list(range(10))\n",
    "num = 999\n",
    "print(f'origin_list: {list_1}')\n",
    "print(f'origin_num: {num}')"
   ]
  },
  {
   "cell_type": "code",
   "execution_count": 14,
   "metadata": {},
   "outputs": [
    {
     "name": "stdout",
     "output_type": "stream",
     "text": [
      "list: [1, 2, 3, 4, 5, 6, 7, 8, 9, 10]\n",
      "num: 1000\n"
     ]
    }
   ],
   "source": [
    "all_plus_1(list_1)\n",
    "plus_1(num)\n",
    "\n",
    "print(f'list: {list_1}')\n",
    "print(f'num: {num}')"
   ]
  }
 ],
 "metadata": {
  "interpreter": {
   "hash": "d99764f15bd606cd04f4cc891893faff0d8a325d07076a504805be1fdf0095de"
  },
  "kernelspec": {
   "display_name": "Python 3.6.8 64-bit ('jupyter': venv)",
   "language": "python",
   "name": "python3"
  },
  "language_info": {
   "codemirror_mode": {
    "name": "ipython",
    "version": 3
   },
   "file_extension": ".py",
   "mimetype": "text/x-python",
   "name": "python",
   "nbconvert_exporter": "python",
   "pygments_lexer": "ipython3",
   "version": "3.6.8"
  },
  "orig_nbformat": 4
 },
 "nbformat": 4,
 "nbformat_minor": 2
}
