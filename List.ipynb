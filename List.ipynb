{
 "cells": [
  {
   "cell_type": "markdown",
   "metadata": {},
   "source": [
    "# List 列表"
   ]
  },
  {
   "cell_type": "markdown",
   "metadata": {},
   "source": [
    "## 列表的声明\n",
    "\n",
    "创建一个列表，只要把逗号分隔的不同的数据项使用方括号括起来即可；如下所示："
   ]
  },
  {
   "cell_type": "code",
   "execution_count": 1,
   "metadata": {},
   "outputs": [
    {
     "name": "stdout",
     "output_type": "stream",
     "text": [
      "classmates = ['Michael', 'Bob', 'Tracy']\n"
     ]
    }
   ],
   "source": [
    "classmates = ['Michael', 'Bob', 'Tracy']\n",
    "print('classmates =', classmates)"
   ]
  },
  {
   "cell_type": "markdown",
   "metadata": {},
   "source": [
    "## 列表的索引（访问列表中的值）\n",
    "\n",
    "序列中的每个值都有对应的位置值，称之为索引，第一个索引是 0，第二个索引是 1，依此类推"
   ]
  },
  {
   "cell_type": "code",
   "execution_count": 19,
   "metadata": {},
   "outputs": [
    {
     "name": "stdout",
     "output_type": "stream",
     "text": [
      "classmates[0] = Michael\n",
      "classmates[1] = Bob\n",
      "classmates[2] = Tracy\n"
     ]
    }
   ],
   "source": [
    "print('classmates[0] =', classmates[0])\n",
    "print('classmates[1] =', classmates[1])\n",
    "print('classmates[2] =', classmates[2])"
   ]
  },
  {
   "cell_type": "markdown",
   "metadata": {},
   "source": [
    "也可以逆向索引列表中的值："
   ]
  },
  {
   "cell_type": "code",
   "execution_count": 20,
   "metadata": {},
   "outputs": [
    {
     "name": "stdout",
     "output_type": "stream",
     "text": [
      "classmates[-1] = Tracy\n"
     ]
    }
   ],
   "source": [
    "print('classmates[-1] =', classmates[-1])"
   ]
  },
  {
   "cell_type": "markdown",
   "metadata": {},
   "source": [
    "## 列表的截取\n",
    "\n",
    "通过索引截取列表的某一部分，中括号中可以是一个冒号也可以是两个冒号，两个冒号隔开的三个数字中，第一个数字表示从哪个索引开始截取（**不填则默认为0**），第二个数字表示到哪个索引前（**不填则默认为最后一个索引**），第三个数字表示步长（每多少个索引取一个值），**一个冒号时步长默认为1**"
   ]
  },
  {
   "cell_type": "code",
   "execution_count": 2,
   "metadata": {},
   "outputs": [
    {
     "name": "stdout",
     "output_type": "stream",
     "text": [
      "L[0:3] = ['Michael', 'Sarah', 'Tracy']\n",
      "L[:3] = ['Michael', 'Sarah', 'Tracy']\n",
      "L[1:3] = ['Sarah', 'Tracy']\n",
      "L[-2:] = ['Bob', 'Jack']\n"
     ]
    }
   ],
   "source": [
    "L = ['Michael', 'Sarah', 'Tracy', 'Bob', 'Jack']\n",
    "\n",
    "print('L[0:3] =', L[0:3])\n",
    "print('L[:3] =', L[:3])\n",
    "print('L[1:3] =', L[1:3])\n",
    "print('L[-2:] =', L[-2:])"
   ]
  },
  {
   "cell_type": "code",
   "execution_count": 22,
   "metadata": {},
   "outputs": [
    {
     "name": "stdout",
     "output_type": "stream",
     "text": [
      "R[:10] = [0, 1, 2, 3, 4, 5, 6, 7, 8, 9]\n",
      "R[-10:] = [90, 91, 92, 93, 94, 95, 96, 97, 98, 99]\n",
      "R[10:20] = [10, 11, 12, 13, 14, 15, 16, 17, 18, 19]\n",
      "R[:10:2] = [0, 2, 4, 6, 8]\n",
      "R[::5] = [0, 5, 10, 15, 20, 25, 30, 35, 40, 45, 50, 55, 60, 65, 70, 75, 80, 85, 90, 95]\n"
     ]
    }
   ],
   "source": [
    "R = list(range(100))\n",
    "print('R[:10] =', R[:10])\n",
    "print('R[-10:] =', R[-10:])\n",
    "print('R[10:20] =', R[10:20])\n",
    "print('R[:10:2] =', R[:10:2])\n",
    "print('R[::5] =', R[::5])"
   ]
  },
  {
   "cell_type": "markdown",
   "metadata": {},
   "source": [
    "## 列表常用方法\n",
    "常用方法如下图所示：\n",
    "![image-20211122183003475](https://gitee.com/Kevinello/pic/raw/master/img/20211122183012.png)"
   ]
  },
  {
   "cell_type": "code",
   "execution_count": 2,
   "metadata": {},
   "outputs": [
    {
     "name": "stdout",
     "output_type": "stream",
     "text": [
      "numbers: [0, 1, 2, 3, 4, 5, 6, 7, 8, 9]\n",
      "numbers: [0, 1, 2, 3, 4, 5, 6, 7, 8, 9, 6]\n",
      "numbers_copy_test: [0, 1, 2, 3, 4, 5, 6, 7, 8, 9, 6, 7]\n",
      "numbers_copy: [0, 1, 2, 3, 4, 5, 6, 7, 8, 9, 6, 7]\n",
      "numbers_copy: []\n",
      "numbers.count(7): 2\n",
      "numbers: [0, 1, 2, 3, 4, 5, 6, 7, 8, 9, 6, 7, 999, 0, 1, 2, 3, 4, 5, 6, 7, 8, 9, 6, 7, 999]\n",
      "numbers: [0, 1, 2, 3, 4, 6, 5, 6, 7, 8, 9, 6, 7, 999, 0, 1, 2, 3, 4, 5, 6, 7, 8, 9, 6, 7, 999]\n",
      "last_number: 7\n",
      "numbers: [0, 1, 2, 3, 4, 6, 5, 6, 7, 8, 9, 6, 7, 999, 0, 1, 2, 3, 4, 5, 6, 7, 8, 9, 6, 999]\n",
      "numbers: [999, 6, 9, 8, 7, 6, 5, 4, 3, 2, 1, 0, 999, 7, 6, 9, 8, 7, 6, 5, 6, 4, 3, 2, 1, 0]\n",
      "numbers: [0, 0, 1, 1, 2, 2, 3, 3, 4, 4, 5, 5, 6, 6, 6, 6, 6, 7, 7, 7, 8, 8, 9, 9, 999, 999]\n"
     ]
    }
   ],
   "source": [
    "numbers = list(range(10))\n",
    "print(f'numbers: {numbers}')\n",
    "\n",
    "numbers.append(6)\n",
    "print(f'numbers: {numbers}')\n",
    "\n",
    "numbers_copy_test = numbers\n",
    "numbers.append(7)\n",
    "print(f'numbers_copy_test: {numbers_copy_test}')\n",
    "\n",
    "numbers_copy = numbers.copy()\n",
    "numbers.append(999)\n",
    "print(f'numbers_copy: {numbers_copy}')\n",
    "\n",
    "numbers_copy.clear()\n",
    "print(f'numbers_copy: {numbers_copy}')\n",
    "\n",
    "print(f'numbers.count(7): {numbers.count(7)}')\n",
    "numbers += numbers_copy_test\n",
    "print(f'numbers: {numbers}')\n",
    "\n",
    "numbers.insert(5, 6)\n",
    "print(f'numbers: {numbers}')\n",
    "\n",
    "last_number = numbers.pop(-2)\n",
    "print(f'last_number: {last_number}\\nnumbers: {numbers}')\n",
    "\n",
    "numbers.reverse()\n",
    "print(f'numbers: {numbers}')\n",
    "\n",
    "numbers.sort()\n",
    "print(f'numbers: {numbers}')"
   ]
  }
 ],
 "metadata": {
  "interpreter": {
   "hash": "724a1a337f71fe1b1aaaf85c8982b566ad39658195c79b0810cd4dbb6de6bef9"
  },
  "kernelspec": {
   "display_name": "Python 3.9.6 64-bit ('jupyter': venv)",
   "language": "python",
   "name": "python3"
  },
  "language_info": {
   "codemirror_mode": {
    "name": "ipython",
    "version": 3
   },
   "file_extension": ".py",
   "mimetype": "text/x-python",
   "name": "python",
   "nbconvert_exporter": "python",
   "pygments_lexer": "ipython3",
   "version": "3.6.8"
  },
  "orig_nbformat": 4
 },
 "nbformat": 4,
 "nbformat_minor": 2
}
