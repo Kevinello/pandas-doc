{
 "cells": [
  {
   "cell_type": "markdown",
   "metadata": {},
   "source": [
    "# Dict 字典\n",
    "\n",
    "字典的每个键值 key=>value 对用冒号 : 分割，每个对之间用逗号(,)分割，整个字典包括在花括号 {} 中 ,格式如下所示："
   ]
  },
  {
   "cell_type": "code",
   "execution_count": 24,
   "metadata": {},
   "outputs": [
    {
     "name": "stdout",
     "output_type": "stream",
     "text": [
      "len(dict_1): 3\n"
     ]
    }
   ],
   "source": [
    "dict_1 = {\n",
    "    'kevin': 568000,\n",
    "    'tencent': 467,\n",
    "    'google': 'global pay'\n",
    "}\n",
    "print(f'len(dict_1): {len(dict_1)}')"
   ]
  },
  {
   "cell_type": "markdown",
   "metadata": {},
   "source": [
    "## 访问键值对"
   ]
  },
  {
   "cell_type": "code",
   "execution_count": 25,
   "metadata": {},
   "outputs": [
    {
     "data": {
      "text/plain": [
       "'global pay'"
      ]
     },
     "execution_count": 25,
     "metadata": {},
     "output_type": "execute_result"
    }
   ],
   "source": [
    "dict_1['google']"
   ]
  },
  {
   "cell_type": "markdown",
   "metadata": {},
   "source": [
    "## dict常用方法"
   ]
  },
  {
   "cell_type": "code",
   "execution_count": 26,
   "metadata": {},
   "outputs": [
    {
     "name": "stdout",
     "output_type": "stream",
     "text": [
      "dict_1.keys(): dict_keys(['kevin', 'tencent', 'google'])\n",
      "dict_1.values(): dict_values([568000, 467, 'global pay'])\n",
      "dict_1.items(): dict_items([('kevin', 568000), ('tencent', 467), ('google', 'global pay')])\n"
     ]
    }
   ],
   "source": [
    "print(f'dict_1.keys(): {dict_1.keys()}') # 获取dict的所有key\n",
    "print(f'dict_1.values(): {dict_1.values()}') # 获取dict的所有value\n",
    "print(f'dict_1.items(): {dict_1.items()}')"
   ]
  },
  {
   "cell_type": "code",
   "execution_count": 27,
   "metadata": {},
   "outputs": [
    {
     "name": "stdout",
     "output_type": "stream",
     "text": [
      "'xxx'\n",
      "dict_1.get('xxx'): not found\n"
     ]
    }
   ],
   "source": [
    "try:\n",
    "    dict_1['xxx']\n",
    "except KeyError as e:\n",
    "    print(e)\n",
    "\n",
    "print(f\"dict_1.get('xxx'): {dict_1.get('xxx', 'not found')}\")\n"
   ]
  },
  {
   "cell_type": "code",
   "execution_count": 29,
   "metadata": {},
   "outputs": [
    {
     "name": "stdout",
     "output_type": "stream",
     "text": [
      "tencent_value: 467\n",
      "dict_copy: {'kevin': 568000, 'google': 'global pay'}\n",
      "dict_copy: {'kevin': 568000}\n",
      "dict_copy: {}\n"
     ]
    }
   ],
   "source": [
    "dict_copy = dict_1.copy()\n",
    "\n",
    "print(f\"tencent_value: {dict_copy.pop('tencent')}\")\n",
    "print(f'dict_copy: {dict_copy}')\n",
    "\n",
    "del dict_copy['google']\n",
    "print(f'dict_copy: {dict_copy}')\n",
    "\n",
    "dict_copy.clear()\n",
    "print(f'dict_copy: {dict_copy}')"
   ]
  },
  {
   "cell_type": "code",
   "execution_count": 33,
   "metadata": {},
   "outputs": [
    {
     "name": "stdout",
     "output_type": "stream",
     "text": [
      "dict_1: {'kevin': 568000, 'tencent': 467, 'google': 'global pay', 'baidu': 1500000, 'bytedance': 7}\n"
     ]
    }
   ],
   "source": [
    "to_update = {\n",
    "    'baidu': 1500000,\n",
    "    'bytedance': 7\n",
    "}\n",
    "dict_1.update(to_update)\n",
    "\n",
    "print(f'dict_1: {dict_1}')"
   ]
  }
 ],
 "metadata": {
  "interpreter": {
   "hash": "d99764f15bd606cd04f4cc891893faff0d8a325d07076a504805be1fdf0095de"
  },
  "kernelspec": {
   "display_name": "Python 3.6.8 64-bit ('jupyter': venv)",
   "language": "python",
   "name": "python3"
  },
  "language_info": {
   "codemirror_mode": {
    "name": "ipython",
    "version": 3
   },
   "file_extension": ".py",
   "mimetype": "text/x-python",
   "name": "python",
   "nbconvert_exporter": "python",
   "pygments_lexer": "ipython3",
   "version": "3.6.8"
  },
  "orig_nbformat": 4
 },
 "nbformat": 4,
 "nbformat_minor": 2
}
